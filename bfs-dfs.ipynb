{
 "cells": [
  {
   "cell_type": "markdown",
   "metadata": {},
   "source": [
    "## Python (3.10.11)"
   ]
  },
  {
   "cell_type": "code",
   "execution_count": 1,
   "metadata": {},
   "outputs": [],
   "source": [
    "graph = {\"5\": [\"3\", \"7\"], \"3\": [\"2\", \"4\"], \"7\": [\"8\"], \"2\": [], \"4\": [\"8\"], \"8\": []}"
   ]
  },
  {
   "cell_type": "code",
   "execution_count": 2,
   "metadata": {},
   "outputs": [],
   "source": [
    "# DFS Algorithm\n",
    "def DFS(graph, node):\n",
    "    stack = [node]\n",
    "    visited = []\n",
    "\n",
    "    print(\"\\nOrder of visited nodes by DFS: \", end=\" \")\n",
    "\n",
    "    while stack:\n",
    "        s = stack.pop()\n",
    "\n",
    "        if s not in visited:\n",
    "            visited.append(s)\n",
    "            print(s, end=\" \")\n",
    "\n",
    "        for neighbour in graph[s]:\n",
    "            if neighbour not in visited:\n",
    "                stack.append(neighbour)"
   ]
  },
  {
   "cell_type": "code",
   "execution_count": 3,
   "metadata": {},
   "outputs": [],
   "source": [
    "# BFS Algorithm\n",
    "def BFS(graph, node):\n",
    "    queue = [node]\n",
    "    visited = [node]\n",
    "\n",
    "    print(\"\\nOrder of visited nodes by BFS: \", end=\" \")\n",
    "\n",
    "    while queue:\n",
    "        m = queue.pop(0)\n",
    "        print(m, end=\" \")\n",
    "\n",
    "        for neighbour in graph[m]:\n",
    "            if neighbour not in visited:\n",
    "                queue.append(neighbour)\n",
    "                visited.append(neighbour)"
   ]
  },
  {
   "cell_type": "code",
   "execution_count": 4,
   "metadata": {},
   "outputs": [
    {
     "name": "stdout",
     "output_type": "stream",
     "text": [
      "\n",
      "Order of visited nodes by BFS:  5 3 7 2 4 8 \n",
      "Order of visited nodes by DFS:  5 7 8 3 4 2 "
     ]
    }
   ],
   "source": [
    "BFS(graph, \"5\")\n",
    "DFS(graph, \"5\")"
   ]
  }
 ],
 "metadata": {
  "kernelspec": {
   "display_name": ".venv",
   "language": "python",
   "name": "python3"
  },
  "language_info": {
   "codemirror_mode": {
    "name": "ipython",
    "version": 3
   },
   "file_extension": ".py",
   "mimetype": "text/x-python",
   "name": "python",
   "nbconvert_exporter": "python",
   "pygments_lexer": "ipython3",
   "version": "3.10.11"
  },
  "orig_nbformat": 4
 },
 "nbformat": 4,
 "nbformat_minor": 2
}
